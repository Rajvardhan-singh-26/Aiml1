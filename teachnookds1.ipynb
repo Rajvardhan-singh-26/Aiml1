{
  "nbformat": 4,
  "nbformat_minor": 0,
  "metadata": {
    "colab": {
      "provenance": [],
      "authorship_tag": "ABX9TyOuN+qfbZgnIQxQB3Z9AMkC",
      "include_colab_link": true
    },
    "kernelspec": {
      "name": "python3",
      "display_name": "Python 3"
    },
    "language_info": {
      "name": "python"
    }
  },
  "cells": [
    {
      "cell_type": "markdown",
      "metadata": {
        "id": "view-in-github",
        "colab_type": "text"
      },
      "source": [
        "<a href=\"https://colab.research.google.com/github/Rajvardhan-singh-26/Aiml1/blob/main/teachnookds1.ipynb\" target=\"_parent\"><img src=\"https://colab.research.google.com/assets/colab-badge.svg\" alt=\"Open In Colab\"/></a>"
      ]
    },
    {
      "cell_type": "code",
      "execution_count": null,
      "metadata": {
        "colab": {
          "base_uri": "https://localhost:8080/"
        },
        "id": "FffptBPoGR14",
        "outputId": "9b706320-4b1a-4e1b-caf8-9af2ec4bdd78"
      },
      "outputs": [
        {
          "output_type": "stream",
          "name": "stdout",
          "text": [
            "enter first number77\n",
            "enter second number45\n",
            "122\n"
          ]
        }
      ],
      "source": [
        "a = input(\"enter first number\")\n",
        "b = input(\"enter second number\")\n",
        "print(int(a)+int(b))"
      ]
    },
    {
      "cell_type": "code",
      "source": [
        "a = int(input(\"enter the number : \"))\n",
        "b = a**2\n",
        "print(f\"the square {a} is\",b)"
      ],
      "metadata": {
        "colab": {
          "base_uri": "https://localhost:8080/"
        },
        "id": "VaZqFIRvJmah",
        "outputId": "16fed63b-1526-412f-a73f-e76743c0be6c"
      },
      "execution_count": null,
      "outputs": [
        {
          "output_type": "stream",
          "name": "stdout",
          "text": [
            "enter the number : 5\n",
            "the square 5 is 25\n"
          ]
        }
      ]
    },
    {
      "cell_type": "code",
      "source": [
        "a = int(input(\"enter the number : \"))\n",
        "b = pow(a,2)\n",
        "print(f\"the square {a} is\",b)"
      ],
      "metadata": {
        "id": "bW0xZYFaK_XM"
      },
      "execution_count": null,
      "outputs": []
    }
  ]
}